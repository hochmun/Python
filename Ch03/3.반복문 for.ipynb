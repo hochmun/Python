{
 "cells": [
  {
   "cell_type": "code",
   "execution_count": null,
   "metadata": {},
   "outputs": [],
   "source": [
    "\"\"\"\n",
    "날짜 : 2023/01/03\n",
    "이름 : 심규영\n",
    "내용 : 파이썬 반복문 for 예제\n",
    "\"\"\""
   ]
  },
  {
   "cell_type": "code",
   "execution_count": null,
   "metadata": {},
   "outputs": [],
   "source": [
    "# for\n",
    "for i in range(5):\n",
    "    print('i : ', i)\n",
    "\n",
    "for j in range(10, 20):\n",
    "    print('j : ', j)\n",
    "\n",
    "for k in range(10, 0, -1):\n",
    "    print('k : ', k)"
   ]
  },
  {
   "cell_type": "code",
   "execution_count": 4,
   "metadata": {},
   "outputs": [
    {
     "name": "stdout",
     "output_type": "stream",
     "text": [
      "1부터 10까지 합 :  55\n"
     ]
    }
   ],
   "source": [
    "# 1부터 10까지 합\n",
    "total = 0\n",
    "for i in range(1, 11) : total+=i\n",
    "print(\"1부터 10까지 합 : \", total)"
   ]
  },
  {
   "cell_type": "code",
   "execution_count": 22,
   "metadata": {},
   "outputs": [
    {
     "name": "stdout",
     "output_type": "stream",
     "text": [
      "1부터 10까지 짝수합 :  30\n"
     ]
    }
   ],
   "source": [
    "# 1부터 10까지 짝수 합\n",
    "print('1부터 10까지 짝수합 : ',sum([i for i in range(11) if i%2==0]))"
   ]
  },
  {
   "cell_type": "code",
   "execution_count": null,
   "metadata": {},
   "outputs": [],
   "source": [
    "# 중첩 for\n",
    "for a in range(2):\n",
    "    print('a : ', a)\n",
    "    for b in range(3):\n",
    "        print('b : ', b)\n",
    "        for c in range(4):\n",
    "            print('c : ', c)"
   ]
  },
  {
   "cell_type": "code",
   "execution_count": null,
   "metadata": {},
   "outputs": [],
   "source": [
    "# 구구단 출력\n",
    "for i in range(2, 10):\n",
    "    for j in range(1, 10):\n",
    "        print(f'{i} * {j} = {i*j}')"
   ]
  },
  {
   "cell_type": "code",
   "execution_count": null,
   "metadata": {},
   "outputs": [],
   "source": [
    "# 별삼각형\n",
    "for i in range(1,11):print('☆'*i)"
   ]
  },
  {
   "cell_type": "code",
   "execution_count": null,
   "metadata": {},
   "outputs": [],
   "source": [
    "# index 출력\n",
    "L = [9, 8, 7, 6, 5, 4, 3, 2, 1]\n",
    "for i, v in enumerate(L):print('i, v :', i, v)"
   ]
  }
 ],
 "metadata": {
  "kernelspec": {
   "display_name": "Python 3",
   "language": "python",
   "name": "python3"
  },
  "language_info": {
   "codemirror_mode": {
    "name": "ipython",
    "version": 3
   },
   "file_extension": ".py",
   "mimetype": "text/x-python",
   "name": "python",
   "nbconvert_exporter": "python",
   "pygments_lexer": "ipython3",
   "version": "3.11.1"
  },
  "orig_nbformat": 4,
  "vscode": {
   "interpreter": {
    "hash": "5868237a719c5308d34c8911a17794e6baa898a055f8bd5fbd9df195d03bb563"
   }
  }
 },
 "nbformat": 4,
 "nbformat_minor": 2
}

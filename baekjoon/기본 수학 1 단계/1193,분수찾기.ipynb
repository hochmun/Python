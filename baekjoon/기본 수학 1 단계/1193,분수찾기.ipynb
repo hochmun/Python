{
 "cells": [
  {
   "cell_type": "code",
   "execution_count": null,
   "metadata": {},
   "outputs": [],
   "source": [
    "\"\"\"\n",
    "날짜 : 2023/01/13\n",
    "이름 : 심규영\n",
    "내용 : 분수찾기 / 1193번 문제\n",
    "\"\"\""
   ]
  },
  {
   "cell_type": "code",
   "execution_count": 12,
   "metadata": {},
   "outputs": [
    {
     "name": "stdout",
     "output_type": "stream",
     "text": [
      "2/4\n"
     ]
    }
   ],
   "source": [
    "X = int(input())\n",
    "i = 2\n",
    "Y = Z = 0\n",
    "if X==1:print(\"1/1\")\n",
    "else:\n",
    "    while True:\n",
    "        if(X <= (i*(1+i))/2):Y = i;break\n",
    "        else:i+=1\n",
    "    \n",
    "    Z = int(X - ((Y-1)*Y)/2)\n",
    "    print(f'{Z}/{1+Y-Z}' if Y%2==0 else f'{1+Y-Z}/{Z}')\n",
    "\n"
   ]
  },
  {
   "cell_type": "code",
   "execution_count": 14,
   "metadata": {},
   "outputs": [
    {
     "name": "stdout",
     "output_type": "stream",
     "text": [
      "2/4\n"
     ]
    }
   ],
   "source": [
    "X = int(input())\n",
    "i = 1\n",
    "\n",
    "while X > i:\n",
    "    X -= i\n",
    "    i += 1\n",
    "\n",
    "print(f'{X}/{i+1-X}' if i % 2 == 0 else f'{i+1-X}/{X}')"
   ]
  }
 ],
 "metadata": {
  "kernelspec": {
   "display_name": "Python 3",
   "language": "python",
   "name": "python3"
  },
  "language_info": {
   "codemirror_mode": {
    "name": "ipython",
    "version": 3
   },
   "file_extension": ".py",
   "mimetype": "text/x-python",
   "name": "python",
   "nbconvert_exporter": "python",
   "pygments_lexer": "ipython3",
   "version": "3.11.1"
  },
  "orig_nbformat": 4,
  "vscode": {
   "interpreter": {
    "hash": "5868237a719c5308d34c8911a17794e6baa898a055f8bd5fbd9df195d03bb563"
   }
  }
 },
 "nbformat": 4,
 "nbformat_minor": 2
}

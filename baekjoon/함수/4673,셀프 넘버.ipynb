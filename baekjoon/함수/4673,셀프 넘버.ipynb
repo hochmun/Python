{
 "cells": [
  {
   "cell_type": "code",
   "execution_count": null,
   "metadata": {},
   "outputs": [],
   "source": [
    "\"\"\"\n",
    "날짜 : 2023/01/06\n",
    "이름 : 심규영\n",
    "내용 : 셀프 넘버 / 4673번 문제\n",
    "\"\"\""
   ]
  },
  {
   "cell_type": "code",
   "execution_count": 5,
   "metadata": {},
   "outputs": [
    {
     "name": "stdout",
     "output_type": "stream",
     "text": [
      "1\n",
      "3\n",
      "5\n",
      "7\n",
      "9\n",
      "20\n",
      "31\n",
      "42\n",
      "53\n",
      "64\n",
      "75\n",
      "86\n",
      "97\n"
     ]
    }
   ],
   "source": [
    "def d(n:int):\n",
    "    L = [True for i in range(1, n+1)]\n",
    "    for i in range(len(L)):\n",
    "        N = [int(j) for j in str(i+1)]\n",
    "        S = i+1+sum(N)\n",
    "        if S < 10000:\n",
    "            if L[S]==True:\n",
    "                L[S]=False\n",
    "    for I, v in enumerate(L):\n",
    "        if v==True and I > 0:\n",
    "            print(I)\n",
    "\n",
    "d(10000)"
   ]
  }
 ],
 "metadata": {
  "kernelspec": {
   "display_name": "Python 3",
   "language": "python",
   "name": "python3"
  },
  "language_info": {
   "codemirror_mode": {
    "name": "ipython",
    "version": 3
   },
   "file_extension": ".py",
   "mimetype": "text/x-python",
   "name": "python",
   "nbconvert_exporter": "python",
   "pygments_lexer": "ipython3",
   "version": "3.11.1"
  },
  "orig_nbformat": 4,
  "vscode": {
   "interpreter": {
    "hash": "5868237a719c5308d34c8911a17794e6baa898a055f8bd5fbd9df195d03bb563"
   }
  }
 },
 "nbformat": 4,
 "nbformat_minor": 2
}

{
 "cells": [
  {
   "cell_type": "code",
   "execution_count": null,
   "metadata": {},
   "outputs": [],
   "source": [
    "\"\"\"\n",
    "날짜 : \n",
    "이름 : 심규영\n",
    "내용 : 베르트랑 공준 // 4948번 문제\n",
    "\"\"\""
   ]
  },
  {
   "cell_type": "code",
   "execution_count": 2,
   "metadata": {},
   "outputs": [],
   "source": [
    "prime = []\n",
    "\n",
    "for i in range(0, 123457): \n",
    "    prime.append(False)\n",
    "\n",
    "prime[0] = prime[1] = True\n",
    "\n",
    "for i in range(2, int(123457**(1/2))+1):\n",
    "    if(prime[i] == True):continue\n",
    "    for j in range(i*i,123458,i):\n",
    "        prime[j] = True\n",
    "\n",
    "while(True):\n",
    "    n = int(input())\n",
    "\n",
    "    \n",
    "\n",
    "    if n == 0:break"
   ]
  }
 ],
 "metadata": {
  "kernelspec": {
   "display_name": "Python 3",
   "language": "python",
   "name": "python3"
  },
  "language_info": {
   "codemirror_mode": {
    "name": "ipython",
    "version": 3
   },
   "file_extension": ".py",
   "mimetype": "text/x-python",
   "name": "python",
   "nbconvert_exporter": "python",
   "pygments_lexer": "ipython3",
   "version": "3.11.1"
  },
  "orig_nbformat": 4,
  "vscode": {
   "interpreter": {
    "hash": "5868237a719c5308d34c8911a17794e6baa898a055f8bd5fbd9df195d03bb563"
   }
  }
 },
 "nbformat": 4,
 "nbformat_minor": 2
}

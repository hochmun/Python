{
 "cells": [
  {
   "cell_type": "code",
   "execution_count": null,
   "metadata": {},
   "outputs": [],
   "source": [
    "\"\"\"\n",
    "날짜 : 2023/02/06\n",
    "이름 : 심규영\n",
    "내용 : 소수 구하기 // 1929번 문제\n",
    "\"\"\""
   ]
  },
  {
   "cell_type": "code",
   "execution_count": null,
   "metadata": {},
   "outputs": [],
   "source": [
    "M, N = map(int, input().split())\n",
    "prime = []\n",
    "\n",
    "for i in range(0, N+1): \n",
    "    prime.append(False)\n",
    "\n",
    "prime[0] = prime[1] = True\n",
    "\n",
    "for i in range(2, int(N**(1/2))+1):\n",
    "    if(prime[i] == True):continue\n",
    "    for j in range(i*i,N+1,i):\n",
    "        prime[j] = True\n",
    "\n",
    "for i in range(M, N+1):\n",
    "    if prime[i]==False:print(i)"
   ]
  }
 ],
 "metadata": {
  "kernelspec": {
   "display_name": "Python 3",
   "language": "python",
   "name": "python3"
  },
  "language_info": {
   "codemirror_mode": {
    "name": "ipython",
    "version": 3
   },
   "file_extension": ".py",
   "mimetype": "text/x-python",
   "name": "python",
   "nbconvert_exporter": "python",
   "pygments_lexer": "ipython3",
   "version": "3.11.1"
  },
  "orig_nbformat": 4,
  "vscode": {
   "interpreter": {
    "hash": "5868237a719c5308d34c8911a17794e6baa898a055f8bd5fbd9df195d03bb563"
   }
  }
 },
 "nbformat": 4,
 "nbformat_minor": 2
}

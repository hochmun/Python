{
 "cells": [
  {
   "cell_type": "code",
   "execution_count": null,
   "metadata": {},
   "outputs": [],
   "source": [
    "\"\"\"\n",
    "날짜 : 2023/02/06\n",
    "이름 : 심규영\n",
    "내용 : 소수 // 2581번 문제\n",
    "\"\"\""
   ]
  },
  {
   "cell_type": "code",
   "execution_count": 8,
   "metadata": {},
   "outputs": [
    {
     "name": "stdout",
     "output_type": "stream",
     "text": [
      "-1\n"
     ]
    }
   ],
   "source": [
    "M, N = map(int, [input() for _ in range(2)])\n",
    "sum = 0\n",
    "min = 10000\n",
    "prime = []\n",
    "\n",
    "for i in range(0, N+1): \n",
    "    prime.append(False)\n",
    "\n",
    "prime[0] = prime[1] = True\n",
    "\n",
    "for i in range(2, int(N**(1/2))+1):\n",
    "    if(prime[i] == True):continue\n",
    "    for j in range(i*i,N+1,i):\n",
    "        prime[j] = True\n",
    "\n",
    "for i in range(M, N+1):\n",
    "    if prime[i] == False:\n",
    "        sum += i\n",
    "        if i < min: min=i\n",
    "\n",
    "if sum == 0 :print(-1)\n",
    "else:\n",
    "    print(sum)\n",
    "    print(min)"
   ]
  }
 ],
 "metadata": {
  "kernelspec": {
   "display_name": "Python 3",
   "language": "python",
   "name": "python3"
  },
  "language_info": {
   "codemirror_mode": {
    "name": "ipython",
    "version": 3
   },
   "file_extension": ".py",
   "mimetype": "text/x-python",
   "name": "python",
   "nbconvert_exporter": "python",
   "pygments_lexer": "ipython3",
   "version": "3.11.1"
  },
  "orig_nbformat": 4,
  "vscode": {
   "interpreter": {
    "hash": "5868237a719c5308d34c8911a17794e6baa898a055f8bd5fbd9df195d03bb563"
   }
  }
 },
 "nbformat": 4,
 "nbformat_minor": 2
}

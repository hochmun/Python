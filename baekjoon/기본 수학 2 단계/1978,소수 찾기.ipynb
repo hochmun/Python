{
 "cells": [
  {
   "cell_type": "code",
   "execution_count": null,
   "metadata": {},
   "outputs": [],
   "source": [
    "\"\"\"\n",
    "날짜 : 2023/02/06\n",
    "이름 : 심규영\n",
    "내용 : 소수 찾기 // 1978번 문제\n",
    "\"\"\""
   ]
  },
  {
   "cell_type": "code",
   "execution_count": 16,
   "metadata": {},
   "outputs": [
    {
     "name": "stdout",
     "output_type": "stream",
     "text": [
      "3\n"
     ]
    }
   ],
   "source": [
    "N = int(input())\n",
    "T = input().split()\n",
    "count = 0\n",
    "prime = []\n",
    "\n",
    "for i in range(0, 1001): \n",
    "    prime.append(False)\n",
    "\n",
    "prime[0] = prime[1] = True\n",
    "\n",
    "for i in range(2, int(1000**(1/2))+1):\n",
    "    if(prime[i] == True):continue\n",
    "    for j in range(i*i,1001,i):\n",
    "        prime[j] = True\n",
    "\n",
    "for i in range(0, N):\n",
    "    if prime[int(T[i])] == False:count += 1\n",
    "\n",
    "print(count)"
   ]
  }
 ],
 "metadata": {
  "kernelspec": {
   "display_name": "Python 3",
   "language": "python",
   "name": "python3"
  },
  "language_info": {
   "codemirror_mode": {
    "name": "ipython",
    "version": 3
   },
   "file_extension": ".py",
   "mimetype": "text/x-python",
   "name": "python",
   "nbconvert_exporter": "python",
   "pygments_lexer": "ipython3",
   "version": "3.11.1"
  },
  "orig_nbformat": 4,
  "vscode": {
   "interpreter": {
    "hash": "5868237a719c5308d34c8911a17794e6baa898a055f8bd5fbd9df195d03bb563"
   }
  }
 },
 "nbformat": 4,
 "nbformat_minor": 2
}

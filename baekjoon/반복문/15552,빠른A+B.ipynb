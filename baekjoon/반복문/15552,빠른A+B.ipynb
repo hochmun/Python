{
 "cells": [
  {
   "cell_type": "code",
   "execution_count": null,
   "metadata": {},
   "outputs": [],
   "source": [
    "\"\"\"\n",
    "날짜 : 2023/01/03\n",
    "이름 : 심규영\n",
    "내용 : 빠른A+B, 15552번 문제\n",
    "\"\"\""
   ]
  },
  {
   "cell_type": "code",
   "execution_count": 1,
   "metadata": {},
   "outputs": [],
   "source": [
    "import sys\n",
    "T = int(sys.stdin.readline())\n",
    "for i in [sys.stdin.readline().strip() for a in range(T)]:\n",
    "    A, B = map(int, i.split())\n",
    "    print(A+B)"
   ]
  },
  {
   "cell_type": "code",
   "execution_count": null,
   "metadata": {},
   "outputs": [],
   "source": [
    "import sys\n",
    "for i in range(int(input())):\n",
    "    print(sum(map(int, sys.stdin.readline().split())))"
   ]
  }
 ],
 "metadata": {
  "kernelspec": {
   "display_name": "Python 3",
   "language": "python",
   "name": "python3"
  },
  "language_info": {
   "codemirror_mode": {
    "name": "ipython",
    "version": 3
   },
   "file_extension": ".py",
   "mimetype": "text/x-python",
   "name": "python",
   "nbconvert_exporter": "python",
   "pygments_lexer": "ipython3",
   "version": "3.10.8"
  },
  "orig_nbformat": 4,
  "vscode": {
   "interpreter": {
    "hash": "92cdaf248de7688f8f47df8aac575a0161505e68c959ead7f64dde13f4590b10"
   }
  }
 },
 "nbformat": 4,
 "nbformat_minor": 2
}

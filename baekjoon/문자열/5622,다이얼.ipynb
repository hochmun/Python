{
 "cells": [
  {
   "cell_type": "code",
   "execution_count": null,
   "metadata": {},
   "outputs": [],
   "source": [
    "\"\"\"\n",
    "날짜 : 2023/01/12\n",
    "이름 : 심규영\n",
    "내용 : 다이얼 / 5622번 문제\n",
    "\"\"\""
   ]
  },
  {
   "cell_type": "code",
   "execution_count": 3,
   "metadata": {},
   "outputs": [
    {
     "name": "stdout",
     "output_type": "stream",
     "text": [
      "36\n"
     ]
    }
   ],
   "source": [
    "W = list(input())\n",
    "M = 0\n",
    "for i in W:\n",
    "    if ord(i) == 32:M+=2\n",
    "    elif 65 <= ord(i) <= 67:M+=3\n",
    "    elif 68 <= ord(i) <= 70:M+=4\n",
    "    elif 71 <= ord(i) <= 73:M+=5\n",
    "    elif 74 <= ord(i) <= 76:M+=6\n",
    "    elif 77 <= ord(i) <= 79:M+=7\n",
    "    elif 80 <= ord(i) <= 83:M+=8\n",
    "    elif 84 <= ord(i) <= 86:M+=9\n",
    "    elif 87 <= ord(i) <= 90:M+=10\n",
    "    else:M+=11\n",
    "print(M)"
   ]
  }
 ],
 "metadata": {
  "kernelspec": {
   "display_name": "Python 3",
   "language": "python",
   "name": "python3"
  },
  "language_info": {
   "codemirror_mode": {
    "name": "ipython",
    "version": 3
   },
   "file_extension": ".py",
   "mimetype": "text/x-python",
   "name": "python",
   "nbconvert_exporter": "python",
   "pygments_lexer": "ipython3",
   "version": "3.11.1 (tags/v3.11.1:a7a450f, Dec  6 2022, 19:58:39) [MSC v.1934 64 bit (AMD64)]"
  },
  "orig_nbformat": 4,
  "vscode": {
   "interpreter": {
    "hash": "5868237a719c5308d34c8911a17794e6baa898a055f8bd5fbd9df195d03bb563"
   }
  }
 },
 "nbformat": 4,
 "nbformat_minor": 2
}

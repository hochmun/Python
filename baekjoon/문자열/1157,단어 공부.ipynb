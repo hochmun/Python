{
 "cells": [
  {
   "cell_type": "code",
   "execution_count": null,
   "metadata": {},
   "outputs": [],
   "source": [
    "\"\"\"\n",
    "날짜 : 2023/01/10\n",
    "이름 : 심규영\n",
    "내용 : 단어 공부 / 1157번 문제\n",
    "\"\"\""
   ]
  },
  {
   "cell_type": "code",
   "execution_count": null,
   "metadata": {},
   "outputs": [],
   "source": [
    "S = list(input())\n",
    "R = {}\n",
    "for i in S:\n",
    "    if 97 <= ord(i):\n",
    "        i = chr(ord(i)-32)\n",
    "\n",
    "    if i in R:\n",
    "        R[i] += 1\n",
    "    else:\n",
    "        R[i] = 1\n",
    "\n",
    "M, L = 0, ''\n",
    "for k, v in R.items():\n",
    "    if v > M:\n",
    "        M = v\n",
    "        L = k\n",
    "    elif v == M:\n",
    "        L = '?'\n",
    "\n",
    "print(L)"
   ]
  },
  {
   "cell_type": "code",
   "execution_count": null,
   "metadata": {},
   "outputs": [],
   "source": [
    "# upper() 함수 => 문자열을 대문자로 변경하는 함수\n",
    "S = input().upper() \n",
    "# set() 함수 => 집합 함수\n",
    "word = list(set(S))\n",
    "cnt = []\n",
    "\n",
    "for i in word:cnt.append(S.count(i))\n",
    "\n",
    "print('?' if cnt.count(max(cnt))>=2 else word[cnt.index(max(cnt))])"
   ]
  }
 ],
 "metadata": {
  "kernelspec": {
   "display_name": "Python 3",
   "language": "python",
   "name": "python3"
  },
  "language_info": {
   "codemirror_mode": {
    "name": "ipython",
    "version": 3
   },
   "file_extension": ".py",
   "mimetype": "text/x-python",
   "name": "python",
   "nbconvert_exporter": "python",
   "pygments_lexer": "ipython3",
   "version": "3.11.1"
  },
  "orig_nbformat": 4,
  "vscode": {
   "interpreter": {
    "hash": "5868237a719c5308d34c8911a17794e6baa898a055f8bd5fbd9df195d03bb563"
   }
  }
 },
 "nbformat": 4,
 "nbformat_minor": 2
}

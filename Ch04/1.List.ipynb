{
 "cells": [
  {
   "cell_type": "code",
   "execution_count": null,
   "metadata": {},
   "outputs": [],
   "source": [
    "\"\"\"\n",
    "날짜 : 2023/01/04\n",
    "이름 : 심규영\n",
    "내용 : 파이썬 List 실습\n",
    "\"\"\""
   ]
  },
  {
   "cell_type": "code",
   "execution_count": null,
   "metadata": {},
   "outputs": [],
   "source": [
    "# 리스트\n",
    "data = [1, 2, 3, 4, 5]\n",
    "print('data type : ', type(data))\n",
    "print('data[0] : ', data[0])\n",
    "print('data[2] : ', data[2])\n",
    "print('data[3] : ', data[3])"
   ]
  },
  {
   "cell_type": "code",
   "execution_count": null,
   "metadata": {},
   "outputs": [],
   "source": [
    "# 여러 종류 데이터를 저장하는 리스트\n",
    "data = [5, 3.14, True, 'Apple']\n",
    "data[0], data[2], data[3], type(data)"
   ]
  },
  {
   "cell_type": "code",
   "execution_count": null,
   "metadata": {},
   "outputs": [],
   "source": [
    "# 다차원 리스트\n",
    "data = [[1,2,3],[4,5,6],[7,8,9]]\n",
    "print(f\"\"\"data[0][0] : {data[0][0]}\n",
    "data[1][1] : {data[1][1]}\n",
    "data[2][1] : {data[2][1]}\"\"\")"
   ]
  },
  {
   "cell_type": "code",
   "execution_count": null,
   "metadata": {},
   "outputs": [],
   "source": [
    "# 리스트 수정, 추가, 삭제\n",
    "data = [1,2,3,4,5]\n",
    "\n",
    "data[1] = 7\n",
    "print('data : ', data)\n",
    "\n",
    "data[2:4] = [7,8,9]\n",
    "print('data : ', data)\n",
    "\n",
    "data[3:5] = []\n",
    "print('data : ', data)"
   ]
  },
  {
   "cell_type": "code",
   "execution_count": null,
   "metadata": {},
   "outputs": [],
   "source": [
    "# 리스트 반복문\n",
    "for n in [1,3,5,7,9]:print(\"n :\",n)\n",
    "\n",
    "cities = ['서울','대전','대구','부산','광주']\n",
    "for city in cities : print('city :', city)\n",
    "\n",
    "for index, value in enumerate(cities):print(f'cities[{index}] : {value}')"
   ]
  },
  {
   "cell_type": "code",
   "execution_count": null,
   "metadata": {},
   "outputs": [],
   "source": [
    "# 리스트 comprehension\n",
    "data = [1,2,3,4,5]\n",
    "\n",
    "re1 = [num*2 for num in data]\n",
    "re2 = [num*3 for num in data if num%2==1]\n",
    "print(f're1 : {re1}\\nre2 : {re2}')"
   ]
  },
  {
   "cell_type": "code",
   "execution_count": null,
   "metadata": {},
   "outputs": [],
   "source": [
    "# 리스트 카운트(count), 중복 제거(set) \n",
    "L1 = [1,2,2,3,3,3,4,5,6]\n",
    "print(L1.count(2), L1.count(3))\n",
    "print(set(L1))"
   ]
  },
  {
   "cell_type": "code",
   "execution_count": null,
   "metadata": {},
   "outputs": [],
   "source": [
    "# 중복 갯수 세기\n",
    "from collections import Counter\n",
    "\n",
    "array = [\"C\", \"D\", \"A\", \"C\", \"A\", \"C\", \"F\", \"B\", \"C\", \"E\", \"C\", \"C\", \"F\", \"A\", \"B\", \"E\", \"F\", \"E\"]\n",
    "\n",
    "counter = Counter(array)\n",
    "\n",
    "print(array)\n",
    "print(counter)\n",
    "print(dict(counter))"
   ]
  }
 ],
 "metadata": {
  "kernelspec": {
   "display_name": "Python 3",
   "language": "python",
   "name": "python3"
  },
  "language_info": {
   "codemirror_mode": {
    "name": "ipython",
    "version": 3
   },
   "file_extension": ".py",
   "mimetype": "text/x-python",
   "name": "python",
   "nbconvert_exporter": "python",
   "pygments_lexer": "ipython3",
   "version": "3.11.1"
  },
  "orig_nbformat": 4,
  "vscode": {
   "interpreter": {
    "hash": "5868237a719c5308d34c8911a17794e6baa898a055f8bd5fbd9df195d03bb563"
   }
  }
 },
 "nbformat": 4,
 "nbformat_minor": 2
}

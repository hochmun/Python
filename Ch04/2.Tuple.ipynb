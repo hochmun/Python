{
 "cells": [
  {
   "cell_type": "code",
   "execution_count": null,
   "metadata": {},
   "outputs": [],
   "source": [
    "\"\"\"\n",
    "날짜 : 2023/01/04\n",
    "이름 : 심규영\n",
    "내용 : 파이썬 Tuple 실습\n",
    "\"\"\""
   ]
  },
  {
   "cell_type": "code",
   "execution_count": null,
   "metadata": {},
   "outputs": [],
   "source": [
    "# 튜플\n",
    "data = (1,2,3,4,5)\n",
    "print('data type :', type(data))\n",
    "print(f'data[0] : {data[0]}\\ndata[2] : {data[2]}\\ndata[3] : {data[3]}')\n",
    "\n",
    "cities = ('서울', '대전','대구','부산','광주')\n",
    "for city in cities:print('city :', city)"
   ]
  },
  {
   "cell_type": "code",
   "execution_count": null,
   "metadata": {},
   "outputs": [],
   "source": [
    "# 튜플 수정, 추가, 삭제 안됨\n",
    "data = 1,2,3,4,5\n",
    "print('data type :',type(data))"
   ]
  }
 ],
 "metadata": {
  "kernelspec": {
   "display_name": "Python 3",
   "language": "python",
   "name": "python3"
  },
  "language_info": {
   "codemirror_mode": {
    "name": "ipython",
    "version": 3
   },
   "file_extension": ".py",
   "mimetype": "text/x-python",
   "name": "python",
   "nbconvert_exporter": "python",
   "pygments_lexer": "ipython3",
   "version": "3.11.1"
  },
  "orig_nbformat": 4,
  "vscode": {
   "interpreter": {
    "hash": "5868237a719c5308d34c8911a17794e6baa898a055f8bd5fbd9df195d03bb563"
   }
  }
 },
 "nbformat": 4,
 "nbformat_minor": 2
}

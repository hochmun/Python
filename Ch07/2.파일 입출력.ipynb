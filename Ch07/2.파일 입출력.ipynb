{
 "cells": [
  {
   "cell_type": "code",
   "execution_count": null,
   "metadata": {},
   "outputs": [],
   "source": [
    "\"\"\"\n",
    "날짜 : 2023/01/12\n",
    "이름 : 심규영\n",
    "내용 : 파이썬 파일 입출력 실습\n",
    "\"\"\""
   ]
  },
  {
   "cell_type": "code",
   "execution_count": 2,
   "metadata": {},
   "outputs": [
    {
     "name": "stdout",
     "output_type": "stream",
     "text": [
      "Hello World!\n",
      "Hello ????!\n"
     ]
    }
   ],
   "source": [
    "# 파일 읽기\n",
    "f1 = open('C:/Users/java2/Desktop/Test.txt', mode='r', encoding='UTF-8')\n",
    "while True:\n",
    "    line = f1.read()\n",
    "\n",
    "    if not line:\n",
    "        break\n",
    "\n",
    "    print(line)\n",
    "\n",
    "f1.close()"
   ]
  },
  {
   "cell_type": "code",
   "execution_count": 4,
   "metadata": {},
   "outputs": [],
   "source": [
    "# 파일 쓰기\n",
    "f2 = open('C:/Users/java2/Desktop/Result.txt', mode='w', encoding='UTF-8')\n",
    "\n",
    "f2.write('안녕하세요.\\n')\n",
    "f2.write('반갑습니다.\\n')\n",
    "f2.write('감사합니다.\\n')\n",
    "f2.close()"
   ]
  },
  {
   "cell_type": "code",
   "execution_count": 7,
   "metadata": {},
   "outputs": [],
   "source": [
    "# 구구단 쓰기\n",
    "f2 = open('C:/Users/java2/Desktop/Result.txt', mode='w', encoding='UTF-8')\n",
    "\n",
    "for i in range(2,10):\n",
    "    f2.write(f'{i}단\\n')\n",
    "    for j in range(1,10):\n",
    "        f2.write(f'{i} * {j} = {i*j}\\n')\n",
    "\n",
    "f2.close()"
   ]
  },
  {
   "cell_type": "code",
   "execution_count": null,
   "metadata": {},
   "outputs": [],
   "source": [
    "# 구구단 읽기\n",
    "f2 = open('C:/Users/java2/Desktop/Result.txt', mode='r', encoding='UTF-8')\n",
    "\n",
    "while True:\n",
    "    line = f2.read()\n",
    "\n",
    "    if not line:break\n",
    "\n",
    "    print(line)\n",
    "\n",
    "f2.close()\n"
   ]
  }
 ],
 "metadata": {
  "kernelspec": {
   "display_name": "Python 3",
   "language": "python",
   "name": "python3"
  },
  "language_info": {
   "codemirror_mode": {
    "name": "ipython",
    "version": 3
   },
   "file_extension": ".py",
   "mimetype": "text/x-python",
   "name": "python",
   "nbconvert_exporter": "python",
   "pygments_lexer": "ipython3",
   "version": "3.11.1"
  },
  "orig_nbformat": 4,
  "vscode": {
   "interpreter": {
    "hash": "5868237a719c5308d34c8911a17794e6baa898a055f8bd5fbd9df195d03bb563"
   }
  }
 },
 "nbformat": 4,
 "nbformat_minor": 2
}

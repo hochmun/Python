{
 "cells": [
  {
   "cell_type": "code",
   "execution_count": 2,
   "metadata": {},
   "outputs": [],
   "source": [
    "\"\"\"\n",
    "날짜 : 2023/01/13\n",
    "이름 : 심규영\n",
    "내용 : 파이썬 데이터베이스 프로그래밍 실습\n",
    "\"\"\"\n",
    "\n",
    "import pymysql"
   ]
  },
  {
   "cell_type": "code",
   "execution_count": 7,
   "metadata": {},
   "outputs": [
    {
     "name": "stdout",
     "output_type": "stream",
     "text": [
      "Insert 완료...\n"
     ]
    }
   ],
   "source": [
    "# insert 실습\n",
    "# 데이터베이스 접속\n",
    "conn = pymysql.connect(host=\"127.0.0.1\", \n",
    "                        user=\"root\", \n",
    "                        passwd=\"1234\", \n",
    "                        db=\"java2db\", \n",
    "                        charset=\"utf8\")\n",
    "\n",
    "# SQL 실행객체\n",
    "cur = conn.cursor()\n",
    "\n",
    "# SQL 실행\n",
    "sql = \"insert into `user3` values ('a301','홍길은','010-1234-2222','20')\"\n",
    "cur.execute(sql)\n",
    "conn.commit()\n",
    "\n",
    "# 데이터베이스 종료\n",
    "conn.close()\n",
    "print('Insert 완료...')"
   ]
  },
  {
   "cell_type": "code",
   "execution_count": 8,
   "metadata": {},
   "outputs": [
    {
     "name": "stdout",
     "output_type": "stream",
     "text": [
      "Update 완료...\n"
     ]
    }
   ],
   "source": [
    "# Update 실습\n",
    "# 데이터베이스 접속\n",
    "conn = pymysql.connect(host=\"127.0.0.1\", \n",
    "                        user=\"root\", \n",
    "                        passwd=\"1234\", \n",
    "                        db=\"java2db\", \n",
    "                        charset=\"utf8\")\n",
    "\n",
    "# SQL 실행객체\n",
    "cur = conn.cursor()\n",
    "\n",
    "# SQL 실행\n",
    "sql = \"update `user3` set \"\n",
    "sql += \"`name` = '홍길금', \"\n",
    "sql += \"`hp` = '010-1234-3333', \"\n",
    "sql += \"`age` = '21' \"\n",
    "sql += \"where `uid` = 'a301'\"\n",
    "\n",
    "cur.execute(sql)\n",
    "conn.commit()\n",
    "\n",
    "# 데이터베이스 종료\n",
    "conn.close()\n",
    "print('Update 완료...')"
   ]
  },
  {
   "cell_type": "code",
   "execution_count": 9,
   "metadata": {},
   "outputs": [
    {
     "name": "stdout",
     "output_type": "stream",
     "text": [
      "Delete 완료...\n"
     ]
    }
   ],
   "source": [
    "# Delete 실습\n",
    "# 데이터베이스 접속\n",
    "conn = pymysql.connect(host=\"127.0.0.1\", \n",
    "                        user=\"root\", \n",
    "                        passwd=\"1234\", \n",
    "                        db=\"java2db\", \n",
    "                        charset=\"utf8\")\n",
    "\n",
    "# SQL 실행객체\n",
    "cur = conn.cursor()\n",
    "\n",
    "# SQL 실행\n",
    "sql = \"delete from `user3` where `uid`='a301'\"\n",
    "cur.execute(sql)\n",
    "conn.commit()\n",
    "\n",
    "# 데이터베이스 종료\n",
    "conn.close()\n",
    "print('Delete 완료...')"
   ]
  },
  {
   "cell_type": "code",
   "execution_count": null,
   "metadata": {},
   "outputs": [],
   "source": [
    "# Select 실습\n",
    "from sub.User3VO import User3VO\n",
    "\n",
    "# 데이터베이스 접속\n",
    "conn = pymysql.connect(host=\"127.0.0.1\", \n",
    "                        user=\"root\", \n",
    "                        passwd=\"1234\", \n",
    "                        db=\"java2db\", \n",
    "                        charset=\"utf8\")\n",
    "\n",
    "# SQL 실행객체\n",
    "cur = conn.cursor()\n",
    "\n",
    "# SQL 실행\n",
    "cur.execute(\"select * from `user3`\")\n",
    "conn.commit()\n",
    "\n",
    "# 결과 출력\n",
    "users = []\n",
    "\n",
    "for row in cur.fetchall():\n",
    "    user = User3VO(row[0], row[1], row[2], row[3])\n",
    "    users.append(user)\n",
    "\n",
    "# 데이터베이스 종료\n",
    "conn.close()\n",
    "print('Select 완료...')\n",
    "\n",
    "for user in users:\n",
    "    print(\"================\")\n",
    "    print('아이디 :', user.uid)\n",
    "    print('이름 : ', user.name)\n",
    "    print('휴대폰 : ', user.hp)\n",
    "    print('나이 : ', user.age)"
   ]
  }
 ],
 "metadata": {
  "kernelspec": {
   "display_name": "Python 3",
   "language": "python",
   "name": "python3"
  },
  "language_info": {
   "codemirror_mode": {
    "name": "ipython",
    "version": 3
   },
   "file_extension": ".py",
   "mimetype": "text/x-python",
   "name": "python",
   "nbconvert_exporter": "python",
   "pygments_lexer": "ipython3",
   "version": "3.11.1 (tags/v3.11.1:a7a450f, Dec  6 2022, 19:58:39) [MSC v.1934 64 bit (AMD64)]"
  },
  "orig_nbformat": 4,
  "vscode": {
   "interpreter": {
    "hash": "5868237a719c5308d34c8911a17794e6baa898a055f8bd5fbd9df195d03bb563"
   }
  }
 },
 "nbformat": 4,
 "nbformat_minor": 2
}
